{
  "nbformat": 4,
  "nbformat_minor": 0,
  "metadata": {
    "colab": {
      "name": "flipr.ipynb",
      "provenance": [],
      "collapsed_sections": []
    },
    "kernelspec": {
      "name": "python3",
      "display_name": "Python 3"
    },
    "accelerator": "GPU"
  },
  "cells": [
    {
      "cell_type": "code",
      "execution_count": 1,
      "metadata": {},
      "outputs": [],
      "source": [
        "#from google.colab import files\n",
        "#files.upload()"
      ]
    },
    {
      "cell_type": "code",
      "execution_count": 1,
      "metadata": {
        "colab": {
          "base_uri": "https://localhost:8080/",
          "height": 54
        },
        "colab_type": "code",
        "id": "9r93nJpKqkC0",
        "outputId": "b4c4b053-fab6-47da-bcdf-f86cabb5b135"
      },
      "outputs": [
        {
          "name": "stdout",
          "output_type": "stream",
          "text": [
            "Prob_20_03.csv\tsample_data\t   Train_dataset.xlsx\n",
            "Prob_27_03.csv\tTest_dataset.xlsx\n"
          ]
        }
      ],
      
    {
      "cell_type": "code",
      "execution_count": 0,
      "metadata": {
        "colab": {},
        "colab_type": "code",
        "id": "Jdglk3fH6bJp"
      },
      "outputs": [],
      "source": [
        "#Importing required libraries and functions\n",
        "\n",
        "#Libraries to load the dataset\n",
        "import pandas as pd\n",
        "import numpy as np\n",
        "\n",
        "#Libraries/Functions for Data Pre-processing\n",
        "#import category_encoders as ce\n",
        "from sklearn.preprocessing import StandardScaler, MinMaxScaler, LabelEncoder,OneHotEncoder\n",
        "from sklearn.model_selection import train_test_split,GridSearchCV\n",
        "from sklearn.metrics import mean_squared_error as mse\n",
        "from sklearn.metrics import mean_absolute_error as mae\n",
        "from sklearn.metrics import r2_score\n",
        "#Functions for building ML models\n",
        "from sklearn.linear_model import LinearRegression,Lasso,Ridge\n",
        "from sklearn.preprocessing import PolynomialFeatures\n",
        "from sklearn.neighbors import KNeighborsRegressor as knn\n",
        "from sklearn.ensemble import RandomForestRegressor,GradientBoostingRegressor\n",
        "from sklearn.svm import SVR\n",
        "from xgboost import XGBRegressor\n",
        "#Functions for time series analysis\n",
        "from statsmodels.tsa.arima_model import ARIMA\n",
        "\n",
        "#Functions for Data-visualisatoin\n",
        "import matplotlib.pyplot as plt\n",
        "import seaborn as sns\n",
        "\n",
        "import warnings\n",
        "warnings.filterwarnings('ignore')"
      ]
    },
    {
      "cell_type": "code",
      "execution_count": 0,
      "metadata": {
        "colab": {},
        "colab_type": "code",
        "id": "xQEQSLznT4m2"
      },
      "outputs": [],
      "source": [
        "train=pd.read_excel('Train_dataset.xlsx')\n",
        "test=pd.read_excel('Test_dataset.xlsx')"
      ]
    },
    {
      "cell_type": "code",
      "execution_count": 4,
      "metadata": {
        "colab": {
          "base_uri": "https://localhost:8080/",
          "height": 36
        },
        "colab_type": "code",
        "id": "bfikbP-hyJz4",
        "outputId": "8d4c38a7-61d4-45f4-bcc1-72557b1e5d64"
      },
      "outputs": [
        {
          "data": {
            "text/plain": [
              "(10714, 28)"
            ]
          },
          "execution_count": 4,
          "metadata": {
            "tags": []
          },
          "output_type": "execute_result"
        }
      ],
      "source": [
        "train.shape"
      ]
    },
    {
      "cell_type": "code",
      "execution_count": 5,
      "metadata": {
        "colab": {
          "base_uri": "https://localhost:8080/",
          "height": 36
        },
        "colab_type": "code",
        "id": "8PQGXr66yijM",
        "outputId": "30942831-947b-40a4-daed-947728056069"
      },
      "outputs": [
        {
          "data": {
            "text/plain": [
              "(14498, 27)"
            ]
          },
          "execution_count": 5,
          "metadata": {
            "tags": []
          },
          "output_type": "execute_result"
        }
      ],
      "source": [
        "test.shape"
      ]
    },
    {
      "cell_type": "code",
      "execution_count": 6,
      "metadata": {
        "colab": {
          "base_uri": "https://localhost:8080/",
          "height": 296
        },
        "colab_type": "code",
        "id": "U-4qgpnAyj7O",
        "outputId": "ed7e367f-f40f-4889-fa90-edf3bdb6c70a"
      },
      "outputs": [
        {
          "data": {
            "text/html": [
              "<div>\n",
              "<style scoped>\n",
              "    .dataframe tbody tr th:only-of-type {\n",
              "        vertical-align: middle;\n",
              "    }\n",
              "\n",
              "    .dataframe tbody tr th {\n",
              "        vertical-align: top;\n",
              "    }\n",
              "\n",
              "    .dataframe thead th {\n",
              "        text-align: right;\n",
              "    }\n",
              "</style>\n",
              "<table border=\"1\" class=\"dataframe\">\n",
              "  <thead>\n",
              "    <tr style=\"text-align: right;\">\n",
              "      <th></th>\n",
              "      <th>people_ID</th>\n",
              "      <th>Region</th>\n",
              "      <th>Gender</th>\n",
              "      <th>Designation</th>\n",
              "      <th>Name</th>\n",
              "      <th>Married</th>\n",
              "      <th>Children</th>\n",
              "      <th>Occupation</th>\n",
              "      <th>Mode_transport</th>\n",
              "      <th>cases/1M</th>\n",
              "      <th>Deaths/1M</th>\n",
              "      <th>comorbidity</th>\n",
              "      <th>Age</th>\n",
              "      <th>Coma score</th>\n",
              "      <th>Pulmonary score</th>\n",
              "      <th>cardiological pressure</th>\n",
              "      <th>Diuresis</th>\n",
              "      <th>Platelets</th>\n",
              "      <th>HBB</th>\n",
              "      <th>d-dimer</th>\n",
              "      <th>Heart rate</th>\n",
              "      <th>HDL cholesterol</th>\n",
              "      <th>Charlson Index</th>\n",
              "      <th>Blood Glucose</th>\n",
              "      <th>Insurance</th>\n",
              "      <th>salary</th>\n",
              "      <th>FT/month</th>\n",
              "      <th>Infect_Prob</th>\n",
              "    </tr>\n",
              "  </thead>\n",
              "  <tbody>\n",
              "    <tr>\n",
              "      <th>0</th>\n",
              "      <td>1</td>\n",
              "      <td>Bhubaneshwar</td>\n",
              "      <td>Female</td>\n",
              "      <td>Mrs</td>\n",
              "      <td>mansi</td>\n",
              "      <td>YES</td>\n",
              "      <td>1.0</td>\n",
              "      <td>Farmer</td>\n",
              "      <td>Public</td>\n",
              "      <td>2</td>\n",
              "      <td>0</td>\n",
              "      <td>Hypertension</td>\n",
              "      <td>68</td>\n",
              "      <td>8</td>\n",
              "      <td>&lt;400</td>\n",
              "      <td>Normal</td>\n",
              "      <td>441.0</td>\n",
              "      <td>154.0</td>\n",
              "      <td>93.0</td>\n",
              "      <td>233.0</td>\n",
              "      <td>82.0</td>\n",
              "      <td>58.0</td>\n",
              "      <td>27</td>\n",
              "      <td>7</td>\n",
              "      <td>3600000.0</td>\n",
              "      <td>1300000</td>\n",
              "      <td>2.0</td>\n",
              "      <td>49.135010</td>\n",
              "    </tr>\n",
              "    <tr>\n",
              "      <th>1</th>\n",
              "      <td>2</td>\n",
              "      <td>Bhubaneshwar</td>\n",
              "      <td>Female</td>\n",
              "      <td>Mrs</td>\n",
              "      <td>riya masi</td>\n",
              "      <td>YES</td>\n",
              "      <td>2.0</td>\n",
              "      <td>Farmer</td>\n",
              "      <td>Walk</td>\n",
              "      <td>2</td>\n",
              "      <td>0</td>\n",
              "      <td>Diabetes</td>\n",
              "      <td>64</td>\n",
              "      <td>15</td>\n",
              "      <td>&lt;100</td>\n",
              "      <td>Stage-02</td>\n",
              "      <td>NaN</td>\n",
              "      <td>121.0</td>\n",
              "      <td>56.0</td>\n",
              "      <td>328.0</td>\n",
              "      <td>89.0</td>\n",
              "      <td>68.0</td>\n",
              "      <td>5</td>\n",
              "      <td>6</td>\n",
              "      <td>1600000.0</td>\n",
              "      <td>400000</td>\n",
              "      <td>1.0</td>\n",
              "      <td>51.147880</td>\n",
              "    </tr>\n",
              "    <tr>\n",
              "      <th>2</th>\n",
              "      <td>3</td>\n",
              "      <td>Bhubaneshwar</td>\n",
              "      <td>Female</td>\n",
              "      <td>Mrs</td>\n",
              "      <td>sunita</td>\n",
              "      <td>NO</td>\n",
              "      <td>1.0</td>\n",
              "      <td>Cleaner</td>\n",
              "      <td>Public</td>\n",
              "      <td>2</td>\n",
              "      <td>0</td>\n",
              "      <td>None</td>\n",
              "      <td>19</td>\n",
              "      <td>13</td>\n",
              "      <td>&lt;300</td>\n",
              "      <td>Elevated</td>\n",
              "      <td>416.0</td>\n",
              "      <td>124.0</td>\n",
              "      <td>137.0</td>\n",
              "      <td>213.0</td>\n",
              "      <td>77.0</td>\n",
              "      <td>43.0</td>\n",
              "      <td>40</td>\n",
              "      <td>6</td>\n",
              "      <td>3400000.0</td>\n",
              "      <td>900000</td>\n",
              "      <td>1.0</td>\n",
              "      <td>73.224000</td>\n",
              "    </tr>\n",
              "    <tr>\n",
              "      <th>3</th>\n",
              "      <td>4</td>\n",
              "      <td>Bhubaneshwar</td>\n",
              "      <td>Female</td>\n",
              "      <td>Mrs</td>\n",
              "      <td>anjali @ babli</td>\n",
              "      <td>YES</td>\n",
              "      <td>1.0</td>\n",
              "      <td>Driver</td>\n",
              "      <td>Car</td>\n",
              "      <td>2</td>\n",
              "      <td>0</td>\n",
              "      <td>Coronary Heart Disease</td>\n",
              "      <td>33</td>\n",
              "      <td>9</td>\n",
              "      <td>&lt;200</td>\n",
              "      <td>Stage-01</td>\n",
              "      <td>410.0</td>\n",
              "      <td>98.0</td>\n",
              "      <td>167.0</td>\n",
              "      <td>275.0</td>\n",
              "      <td>64.0</td>\n",
              "      <td>60.0</td>\n",
              "      <td>27</td>\n",
              "      <td>7</td>\n",
              "      <td>700000.0</td>\n",
              "      <td>2300000</td>\n",
              "      <td>1.0</td>\n",
              "      <td>48.779225</td>\n",
              "    </tr>\n",
              "    <tr>\n",
              "      <th>4</th>\n",
              "      <td>5</td>\n",
              "      <td>Bhubaneshwar</td>\n",
              "      <td>Female</td>\n",
              "      <td>Mrs</td>\n",
              "      <td>champa karketta</td>\n",
              "      <td>NO</td>\n",
              "      <td>2.0</td>\n",
              "      <td>Manufacturing</td>\n",
              "      <td>Car</td>\n",
              "      <td>2</td>\n",
              "      <td>0</td>\n",
              "      <td>Diabetes</td>\n",
              "      <td>23</td>\n",
              "      <td>7</td>\n",
              "      <td>&lt;400</td>\n",
              "      <td>Normal</td>\n",
              "      <td>390.0</td>\n",
              "      <td>21.0</td>\n",
              "      <td>153.0</td>\n",
              "      <td>331.0</td>\n",
              "      <td>71.0</td>\n",
              "      <td>64.0</td>\n",
              "      <td>32</td>\n",
              "      <td>7</td>\n",
              "      <td>3200000.0</td>\n",
              "      <td>1100000</td>\n",
              "      <td>1.0</td>\n",
              "      <td>87.868800</td>\n",
              "    </tr>\n",
              "  </tbody>\n",
              "</table>\n",
              "</div>"
            ],
            "text/plain": [
              "   people_ID        Region  Gender  ...   salary FT/month Infect_Prob\n",
              "0          1  Bhubaneshwar  Female  ...  1300000      2.0   49.135010\n",
              "1          2  Bhubaneshwar  Female  ...   400000      1.0   51.147880\n",
              "2          3  Bhubaneshwar  Female  ...   900000      1.0   73.224000\n",
              "3          4  Bhubaneshwar  Female  ...  2300000      1.0   48.779225\n",
              "4          5  Bhubaneshwar  Female  ...  1100000      1.0   87.868800\n",
              "\n",
              "[5 rows x 28 columns]"
            ]
          },
          "execution_count": 6,
          "metadata": {
            "tags": []
          },
          "output_type": "execute_result"
        }
      ],
      "source": [
        "  train.head()"
      ]
    },
    {
      "cell_type": "code",
      "execution_count": 7,
      "metadata": {
        "colab": {
          "base_uri": "https://localhost:8080/",
          "height": 634
        },
        "colab_type": "code",
        "id": "8YRb2101ynjJ",
        "outputId": "0fb920f9-0348-4fbd-eff3-0ffd33d600a0"
      },
      "outputs": [
        {
          "name": "stdout",
          "output_type": "stream",
          "text": [
            "<class 'pandas.core.frame.DataFrame'>\n",
            "RangeIndex: 10714 entries, 0 to 10713\n",
            "Data columns (total 28 columns):\n",
            "people_ID                 10714 non-null int64\n",
            "Region                    10714 non-null object\n",
            "Gender                    10714 non-null object\n",
            "Designation               10714 non-null object\n",
            "Name                      10694 non-null object\n",
            "Married                   10714 non-null object\n",
            "Children                  10403 non-null float64\n",
            "Occupation                9967 non-null object\n",
            "Mode_transport            10711 non-null object\n",
            "cases/1M                  10714 non-null int64\n",
            "Deaths/1M                 10714 non-null int64\n",
            "comorbidity               10488 non-null object\n",
            "Age                       10714 non-null int64\n",
            "Coma score                10714 non-null int64\n",
            "Pulmonary score           10714 non-null object\n",
            "cardiological pressure    10617 non-null object\n",
            "Diuresis                  9998 non-null float64\n",
            "Platelets                 9790 non-null float64\n",
            "HBB                       10698 non-null float64\n",
            "d-dimer                   9600 non-null float64\n",
            "Heart rate                9600 non-null float64\n",
            "HDL cholesterol           10679 non-null float64\n",
            "Charlson Index            10714 non-null int64\n",
            "Blood Glucose             10714 non-null int64\n",
            "Insurance                 9624 non-null float64\n",
            "salary                    10714 non-null int64\n",
            "FT/month                  9991 non-null float64\n",
            "Infect_Prob               10714 non-null float64\n",
            "dtypes: float64(10), int64(8), object(10)\n",
            "memory usage: 2.3+ MB\n"
          ]
        }
      ],
      "source": [
        "train.info()"
      ]
    },
    {
      "cell_type": "code",
      "execution_count": 0,
      "metadata": {
        "colab": {},
        "colab_type": "code",
        "id": "nOUMeAinypVt"
      },
      "outputs": [],
      "source": [
        "#Defining columns to be filled\n",
        "to_be_filled = ['Children','Occupation','Mode_transport','comorbidity','cardiological pressure','Diuresis','Platelets','HBB','d-dimer','Heart rate','HDL cholesterol','Insurance','FT/month']\n",
        "ctg_vb=['Region','Gender','Married','Occupation','Mode_transport', 'comorbidity','Pulmonary score','cardiological pressure']\n",
        "\n",
        "#Function to fill the NaN values\n",
        "#NaN is replaced with most occuring value if the feature is categorical else filled with median value\n",
        "def fill_values(df,col):\n",
        "    if((col in ctg_vb) or (col=='Children')):\n",
        "        df[col] = df[col].fillna(df[col].value_counts().index[0])\n",
        "    else:\n",
        "        df[col] = df[col].fillna(df[col].mean())\n",
        "    return df\n",
        "\n",
        "for col in to_be_filled:\n",
        "    train = fill_values(train,col)\n",
        "    test =  fill_values(test,col)"
      ]
    },
    {
      "cell_type": "code",
      "execution_count": 9,
      "metadata": {
        "colab": {
          "base_uri": "https://localhost:8080/",
          "height": 634
        },
        "colab_type": "code",
        "id": "t2tqfJxTyqyM",
        "outputId": "1d20bca3-ffad-4dc0-fdb5-09e146ff6647"
      },
      "outputs": [
        {
          "name": "stdout",
          "output_type": "stream",
          "text": [
            "<class 'pandas.core.frame.DataFrame'>\n",
            "RangeIndex: 10714 entries, 0 to 10713\n",
            "Data columns (total 28 columns):\n",
            "people_ID                 10714 non-null int64\n",
            "Region                    10714 non-null object\n",
            "Gender                    10714 non-null object\n",
            "Designation               10714 non-null object\n",
            "Name                      10694 non-null object\n",
            "Married                   10714 non-null object\n",
            "Children                  10714 non-null float64\n",
            "Occupation                10714 non-null object\n",
            "Mode_transport            10714 non-null object\n",
            "cases/1M                  10714 non-null int64\n",
            "Deaths/1M                 10714 non-null int64\n",
            "comorbidity               10714 non-null object\n",
            "Age                       10714 non-null int64\n",
            "Coma score                10714 non-null int64\n",
            "Pulmonary score           10714 non-null object\n",
            "cardiological pressure    10714 non-null object\n",
            "Diuresis                  10714 non-null float64\n",
            "Platelets                 10714 non-null float64\n",
            "HBB                       10714 non-null float64\n",
            "d-dimer                   10714 non-null float64\n",
            "Heart rate                10714 non-null float64\n",
            "HDL cholesterol           10714 non-null float64\n",
            "Charlson Index            10714 non-null int64\n",
            "Blood Glucose             10714 non-null int64\n",
            "Insurance                 10714 non-null float64\n",
            "salary                    10714 non-null int64\n",
            "FT/month                  10714 non-null float64\n",
            "Infect_Prob               10714 non-null float64\n",
            "dtypes: float64(10), int64(8), object(10)\n",
            "memory usage: 2.3+ MB\n"
          ]
        }
      ],
      "source": [
        "####Checking training dataset for presence of NaN values\n",
        "train.info()"
      ]
    },
    {
      "cell_type": "code",
      "execution_count": 10,
      "metadata": {
        "colab": {
          "base_uri": "https://localhost:8080/",
          "height": 261
        },
        "colab_type": "code",
        "id": "tAj0cH3MysPX",
        "outputId": "23bdd555-fa3a-4af4-b6be-eb5f706f8cde"
      },
      "outputs": [
        {
          "data": {
            "text/html": [
              "<div>\n",
              "<style scoped>\n",
              "    .dataframe tbody tr th:only-of-type {\n",
              "        vertical-align: middle;\n",
              "    }\n",
              "\n",
              "    .dataframe tbody tr th {\n",
              "        vertical-align: top;\n",
              "    }\n",
              "\n",
              "    .dataframe thead th {\n",
              "        text-align: right;\n",
              "    }\n",
              "</style>\n",
              "<table border=\"1\" class=\"dataframe\">\n",
              "  <thead>\n",
              "    <tr style=\"text-align: right;\">\n",
              "      <th></th>\n",
              "      <th>Gender</th>\n",
              "      <th>Married</th>\n",
              "      <th>Children</th>\n",
              "      <th>Occupation</th>\n",
              "      <th>Mode_transport</th>\n",
              "      <th>cases/1M</th>\n",
              "      <th>Deaths/1M</th>\n",
              "      <th>comorbidity</th>\n",
              "      <th>Age</th>\n",
              "      <th>Coma score</th>\n",
              "      <th>Pulmonary score</th>\n",
              "      <th>cardiological pressure</th>\n",
              "      <th>Diuresis</th>\n",
              "      <th>Platelets</th>\n",
              "      <th>HBB</th>\n",
              "      <th>d-dimer</th>\n",
              "      <th>Heart rate</th>\n",
              "      <th>HDL cholesterol</th>\n",
              "      <th>Charlson Index</th>\n",
              "      <th>Blood Glucose</th>\n",
              "      <th>Insurance</th>\n",
              "      <th>salary</th>\n",
              "      <th>FT/month</th>\n",
              "    </tr>\n",
              "  </thead>\n",
              "  <tbody>\n",
              "    <tr>\n",
              "      <th>0</th>\n",
              "      <td>Female</td>\n",
              "      <td>YES</td>\n",
              "      <td>1.0</td>\n",
              "      <td>Farmer</td>\n",
              "      <td>Public</td>\n",
              "      <td>2</td>\n",
              "      <td>0</td>\n",
              "      <td>Hypertension</td>\n",
              "      <td>68</td>\n",
              "      <td>8</td>\n",
              "      <td>&lt;400</td>\n",
              "      <td>Normal</td>\n",
              "      <td>441.000000</td>\n",
              "      <td>154.0</td>\n",
              "      <td>93.0</td>\n",
              "      <td>233.0</td>\n",
              "      <td>82.0</td>\n",
              "      <td>58.0</td>\n",
              "      <td>27</td>\n",
              "      <td>7</td>\n",
              "      <td>3600000.0</td>\n",
              "      <td>1300000</td>\n",
              "      <td>2.0</td>\n",
              "    </tr>\n",
              "    <tr>\n",
              "      <th>1</th>\n",
              "      <td>Female</td>\n",
              "      <td>YES</td>\n",
              "      <td>2.0</td>\n",
              "      <td>Farmer</td>\n",
              "      <td>Walk</td>\n",
              "      <td>2</td>\n",
              "      <td>0</td>\n",
              "      <td>Diabetes</td>\n",
              "      <td>64</td>\n",
              "      <td>15</td>\n",
              "      <td>&lt;100</td>\n",
              "      <td>Stage-02</td>\n",
              "      <td>278.806261</td>\n",
              "      <td>121.0</td>\n",
              "      <td>56.0</td>\n",
              "      <td>328.0</td>\n",
              "      <td>89.0</td>\n",
              "      <td>68.0</td>\n",
              "      <td>5</td>\n",
              "      <td>6</td>\n",
              "      <td>1600000.0</td>\n",
              "      <td>400000</td>\n",
              "      <td>1.0</td>\n",
              "    </tr>\n",
              "    <tr>\n",
              "      <th>2</th>\n",
              "      <td>Female</td>\n",
              "      <td>NO</td>\n",
              "      <td>1.0</td>\n",
              "      <td>Cleaner</td>\n",
              "      <td>Public</td>\n",
              "      <td>2</td>\n",
              "      <td>0</td>\n",
              "      <td>None</td>\n",
              "      <td>19</td>\n",
              "      <td>13</td>\n",
              "      <td>&lt;300</td>\n",
              "      <td>Elevated</td>\n",
              "      <td>416.000000</td>\n",
              "      <td>124.0</td>\n",
              "      <td>137.0</td>\n",
              "      <td>213.0</td>\n",
              "      <td>77.0</td>\n",
              "      <td>43.0</td>\n",
              "      <td>40</td>\n",
              "      <td>6</td>\n",
              "      <td>3400000.0</td>\n",
              "      <td>900000</td>\n",
              "      <td>1.0</td>\n",
              "    </tr>\n",
              "    <tr>\n",
              "      <th>3</th>\n",
              "      <td>Female</td>\n",
              "      <td>YES</td>\n",
              "      <td>1.0</td>\n",
              "      <td>Driver</td>\n",
              "      <td>Car</td>\n",
              "      <td>2</td>\n",
              "      <td>0</td>\n",
              "      <td>Coronary Heart Disease</td>\n",
              "      <td>33</td>\n",
              "      <td>9</td>\n",
              "      <td>&lt;200</td>\n",
              "      <td>Stage-01</td>\n",
              "      <td>410.000000</td>\n",
              "      <td>98.0</td>\n",
              "      <td>167.0</td>\n",
              "      <td>275.0</td>\n",
              "      <td>64.0</td>\n",
              "      <td>60.0</td>\n",
              "      <td>27</td>\n",
              "      <td>7</td>\n",
              "      <td>700000.0</td>\n",
              "      <td>2300000</td>\n",
              "      <td>1.0</td>\n",
              "    </tr>\n",
              "    <tr>\n",
              "      <th>4</th>\n",
              "      <td>Female</td>\n",
              "      <td>NO</td>\n",
              "      <td>2.0</td>\n",
              "      <td>Manufacturing</td>\n",
              "      <td>Car</td>\n",
              "      <td>2</td>\n",
              "      <td>0</td>\n",
              "      <td>Diabetes</td>\n",
              "      <td>23</td>\n",
              "      <td>7</td>\n",
              "      <td>&lt;400</td>\n",
              "      <td>Normal</td>\n",
              "      <td>390.000000</td>\n",
              "      <td>21.0</td>\n",
              "      <td>153.0</td>\n",
              "      <td>331.0</td>\n",
              "      <td>71.0</td>\n",
              "      <td>64.0</td>\n",
              "      <td>32</td>\n",
              "      <td>7</td>\n",
              "      <td>3200000.0</td>\n",
              "      <td>1100000</td>\n",
              "      <td>1.0</td>\n",
              "    </tr>\n",
              "  </tbody>\n",
              "</table>\n",
              "</div>"
            ],
            "text/plain": [
              "   Gender Married  Children  ...  Insurance   salary  FT/month\n",
              "0  Female     YES       1.0  ...  3600000.0  1300000       2.0\n",
              "1  Female     YES       2.0  ...  1600000.0   400000       1.0\n",
              "2  Female      NO       1.0  ...  3400000.0   900000       1.0\n",
              "3  Female     YES       1.0  ...   700000.0  2300000       1.0\n",
              "4  Female      NO       2.0  ...  3200000.0  1100000       1.0\n",
              "\n",
              "[5 rows x 23 columns]"
            ]
          },
          "execution_count": 10,
          "metadata": {
            "tags": []
          },
          "output_type": "execute_result"
        }
      ],
      "source": [
        "#Dropping the columns which are not essential\n",
        "to_drop_1 = ['people_ID','Designation', 'Name','Region','Infect_Prob']\n",
        "new_df_train = train.copy().drop(to_drop_1 ,axis=1)\n",
        "y = train['Infect_Prob']\n",
        "\n",
        "to_drop_2 = ['people_ID','Designation','Name','Region']\n",
        "test_id = test['people_ID']\n",
        "new_df_test = test.copy().drop(to_drop_2, axis=1)\n",
        "\n",
        "new_df_train.head()"
      ]
    },
    {
      "cell_type": "code",
      "execution_count": 11,
      "metadata": {
        "colab": {
          "base_uri": "https://localhost:8080/",
          "height": 54
        },
        "colab_type": "code",
        "id": "ycJbZfD4yucN",
        "outputId": "55cd40a6-7eb9-498e-a59c-c02cf0c5eb7f"
      },
      "outputs": [
        {
          "name": "stdout",
          "output_type": "stream",
          "text": [
            "Training data shape:  (10714, 23)\n",
            "Test data Shape:  (14498, 23)\n"
          ]
        }
      ],
      "source": [
        "print(\"Training data shape: \",new_df_train.shape)\n",
        "print(\"Test data Shape: \",new_df_test.shape)"
      ]
    },
    {
      "cell_type": "code",
      "execution_count": 0,
      "metadata": {
        "colab": {},
        "colab_type": "code",
        "id": "y5o48arIywhX"
      },
      "outputs": [],
      "source": [
        "###Listing Out Categorical And Continuous variables for data preprocessing purposes\n",
        "ctg_vb=['Gender','Married','Occupation','Mode_transport', 'comorbidity','Pulmonary score','cardiological pressure']\n",
        "cts_vb=list(set(new_df_train.columns)-set(ctg_vb)-set(['Children']))"
      ]
    },
    {
      "cell_type": "code",
      "execution_count": 0,
      "metadata": {
        "colab": {},
        "colab_type": "code",
        "id": "5Yy7TrKbyx_7"
      },
      "outputs": [],
      "source": [
        "###Function for label encoding of Categorical variables\n",
        "le = LabelEncoder()\n",
        "def l_encoder(col,df_train,df_test): \n",
        "    le.fit(df_train[col])\n",
        "    integer_encoded1=le.transform(df_train[col])\n",
        "    int_2=le.transform(df_test[col])\n",
        "    df_train[col] = integer_encoded1.reshape(-1, 1)\n",
        "    df_test[col]=int_2.reshape(-1,1)\n",
        "    return df_train,df_test\n"
      ]
    },
    {
      "cell_type": "code",
      "execution_count": 0,
      "metadata": {
        "colab": {},
        "colab_type": "code",
        "id": "i6ssefg-y66J"
      },
      "outputs": [],
      "source": [
        "###Function to standardise continuous variables\n",
        "scaler = StandardScaler()\n",
        "def z_score_scaling(col,df_train,df_test):\n",
        "    a=df_train[col].values.reshape(-1,1)\n",
        "    b=df_test[col].values.reshape(-1,1)\n",
        "    scaler.fit(a)\n",
        "    df_train[col]=scaler.transform(a)\n",
        "    df_test[col]=scaler.transform(b)\n",
        "    return df_train,df_test"
      ]
    },
    {
      "cell_type": "code",
      "execution_count": 16,
      "metadata": {
        "colab": {
          "base_uri": "https://localhost:8080/",
          "height": 261
        },
        "colab_type": "code",
        "id": "kDA9Slp0yzVY",
        "outputId": "1b20f3b7-e79c-44a6-f756-73b454814aba"
      },
      "outputs": [
        {
          "data": {
            "text/html": [
              "<div>\n",
              "<style scoped>\n",
              "    .dataframe tbody tr th:only-of-type {\n",
              "        vertical-align: middle;\n",
              "    }\n",
              "\n",
              "    .dataframe tbody tr th {\n",
              "        vertical-align: top;\n",
              "    }\n",
              "\n",
              "    .dataframe thead th {\n",
              "        text-align: right;\n",
              "    }\n",
              "</style>\n",
              "<table border=\"1\" class=\"dataframe\">\n",
              "  <thead>\n",
              "    <tr style=\"text-align: right;\">\n",
              "      <th></th>\n",
              "      <th>Gender</th>\n",
              "      <th>Married</th>\n",
              "      <th>Children</th>\n",
              "      <th>Occupation</th>\n",
              "      <th>Mode_transport</th>\n",
              "      <th>cases/1M</th>\n",
              "      <th>Deaths/1M</th>\n",
              "      <th>comorbidity</th>\n",
              "      <th>Age</th>\n",
              "      <th>Coma score</th>\n",
              "      <th>Pulmonary score</th>\n",
              "      <th>cardiological pressure</th>\n",
              "      <th>Diuresis</th>\n",
              "      <th>Platelets</th>\n",
              "      <th>HBB</th>\n",
              "      <th>d-dimer</th>\n",
              "      <th>Heart rate</th>\n",
              "      <th>HDL cholesterol</th>\n",
              "      <th>Charlson Index</th>\n",
              "      <th>Blood Glucose</th>\n",
              "      <th>Insurance</th>\n",
              "      <th>salary</th>\n",
              "      <th>FT/month</th>\n",
              "    </tr>\n",
              "  </thead>\n",
              "  <tbody>\n",
              "    <tr>\n",
              "      <th>0</th>\n",
              "      <td>Female</td>\n",
              "      <td>YES</td>\n",
              "      <td>1.0</td>\n",
              "      <td>Farmer</td>\n",
              "      <td>Public</td>\n",
              "      <td>2</td>\n",
              "      <td>0</td>\n",
              "      <td>Hypertension</td>\n",
              "      <td>68</td>\n",
              "      <td>8</td>\n",
              "      <td>&lt;400</td>\n",
              "      <td>Normal</td>\n",
              "      <td>441.000000</td>\n",
              "      <td>154.0</td>\n",
              "      <td>93.0</td>\n",
              "      <td>233.0</td>\n",
              "      <td>82.0</td>\n",
              "      <td>58.0</td>\n",
              "      <td>27</td>\n",
              "      <td>7</td>\n",
              "      <td>3600000.0</td>\n",
              "      <td>1300000</td>\n",
              "      <td>2.0</td>\n",
              "    </tr>\n",
              "    <tr>\n",
              "      <th>1</th>\n",
              "      <td>Female</td>\n",
              "      <td>YES</td>\n",
              "      <td>2.0</td>\n",
              "      <td>Farmer</td>\n",
              "      <td>Walk</td>\n",
              "      <td>2</td>\n",
              "      <td>0</td>\n",
              "      <td>Diabetes</td>\n",
              "      <td>64</td>\n",
              "      <td>15</td>\n",
              "      <td>&lt;100</td>\n",
              "      <td>Stage-02</td>\n",
              "      <td>278.806261</td>\n",
              "      <td>121.0</td>\n",
              "      <td>56.0</td>\n",
              "      <td>328.0</td>\n",
              "      <td>89.0</td>\n",
              "      <td>68.0</td>\n",
              "      <td>5</td>\n",
              "      <td>6</td>\n",
              "      <td>1600000.0</td>\n",
              "      <td>400000</td>\n",
              "      <td>1.0</td>\n",
              "    </tr>\n",
              "    <tr>\n",
              "      <th>2</th>\n",
              "      <td>Female</td>\n",
              "      <td>NO</td>\n",
              "      <td>1.0</td>\n",
              "      <td>Cleaner</td>\n",
              "      <td>Public</td>\n",
              "      <td>2</td>\n",
              "      <td>0</td>\n",
              "      <td>None</td>\n",
              "      <td>19</td>\n",
              "      <td>13</td>\n",
              "      <td>&lt;300</td>\n",
              "      <td>Elevated</td>\n",
              "      <td>416.000000</td>\n",
              "      <td>124.0</td>\n",
              "      <td>137.0</td>\n",
              "      <td>213.0</td>\n",
              "      <td>77.0</td>\n",
              "      <td>43.0</td>\n",
              "      <td>40</td>\n",
              "      <td>6</td>\n",
              "      <td>3400000.0</td>\n",
              "      <td>900000</td>\n",
              "      <td>1.0</td>\n",
              "    </tr>\n",
              "    <tr>\n",
              "      <th>3</th>\n",
              "      <td>Female</td>\n",
              "      <td>YES</td>\n",
              "      <td>1.0</td>\n",
              "      <td>Driver</td>\n",
              "      <td>Car</td>\n",
              "      <td>2</td>\n",
              "      <td>0</td>\n",
              "      <td>Coronary Heart Disease</td>\n",
              "      <td>33</td>\n",
              "      <td>9</td>\n",
              "      <td>&lt;200</td>\n",
              "      <td>Stage-01</td>\n",
              "      <td>410.000000</td>\n",
              "      <td>98.0</td>\n",
              "      <td>167.0</td>\n",
              "      <td>275.0</td>\n",
              "      <td>64.0</td>\n",
              "      <td>60.0</td>\n",
              "      <td>27</td>\n",
              "      <td>7</td>\n",
              "      <td>700000.0</td>\n",
              "      <td>2300000</td>\n",
              "      <td>1.0</td>\n",
              "    </tr>\n",
              "    <tr>\n",
              "      <th>4</th>\n",
              "      <td>Female</td>\n",
              "      <td>NO</td>\n",
              "      <td>2.0</td>\n",
              "      <td>Manufacturing</td>\n",
              "      <td>Car</td>\n",
              "      <td>2</td>\n",
              "      <td>0</td>\n",
              "      <td>Diabetes</td>\n",
              "      <td>23</td>\n",
              "      <td>7</td>\n",
              "      <td>&lt;400</td>\n",
              "      <td>Normal</td>\n",
              "      <td>390.000000</td>\n",
              "      <td>21.0</td>\n",
              "      <td>153.0</td>\n",
              "      <td>331.0</td>\n",
              "      <td>71.0</td>\n",
              "      <td>64.0</td>\n",
              "      <td>32</td>\n",
              "      <td>7</td>\n",
              "      <td>3200000.0</td>\n",
              "      <td>1100000</td>\n",
              "      <td>1.0</td>\n",
              "    </tr>\n",
              "  </tbody>\n",
              "</table>\n",
              "</div>"
            ],
            "text/plain": [
              "   Gender Married  Children  ...  Insurance   salary  FT/month\n",
              "0  Female     YES       1.0  ...  3600000.0  1300000       2.0\n",
              "1  Female     YES       2.0  ...  1600000.0   400000       1.0\n",
              "2  Female      NO       1.0  ...  3400000.0   900000       1.0\n",
              "3  Female     YES       1.0  ...   700000.0  2300000       1.0\n",
              "4  Female      NO       2.0  ...  3200000.0  1100000       1.0\n",
              "\n",
              "[5 rows x 23 columns]"
            ]
          },
          "execution_count": 16,
          "metadata": {
            "tags": []
          },
          "output_type": "execute_result"
        }
      ],
      "source": [
        "### Training data before data preprocessing\n",
        "new_df_train.head()"
      ]
    },
    {
      "cell_type": "code",
      "execution_count": 0,
      "metadata": {
        "colab": {},
        "colab_type": "code",
        "id": "Yfdre61Sy2ba"
      },
      "outputs": [],
      "source": [
        "for col in cts_vb:\n",
        "    new_df_train,new_df_test=z_score_scaling(col,new_df_train,new_df_test)\n",
        "for col in ctg_vb:\n",
        "    new_df_train,new_df_test=l_encoder(col,new_df_train,new_df_test)    "
      ]
    },
    {
      "cell_type": "code",
      "execution_count": 19,
      "metadata": {
        "colab": {
          "base_uri": "https://localhost:8080/",
          "height": 243
        },
        "colab_type": "code",
        "id": "RZuLhtDEzAD8",
        "outputId": "799dd209-489c-4f76-e056-717afc2292fa"
      },
      "outputs": [
        {
          "data": {
            "text/html": [
              "<div>\n",
              "<style scoped>\n",
              "    .dataframe tbody tr th:only-of-type {\n",
              "        vertical-align: middle;\n",
              "    }\n",
              "\n",
              "    .dataframe tbody tr th {\n",
              "        vertical-align: top;\n",
              "    }\n",
              "\n",
              "    .dataframe thead th {\n",
              "        text-align: right;\n",
              "    }\n",
              "</style>\n",
              "<table border=\"1\" class=\"dataframe\">\n",
              "  <thead>\n",
              "    <tr style=\"text-align: right;\">\n",
              "      <th></th>\n",
              "      <th>Gender</th>\n",
              "      <th>Married</th>\n",
              "      <th>Children</th>\n",
              "      <th>Occupation</th>\n",
              "      <th>Mode_transport</th>\n",
              "      <th>cases/1M</th>\n",
              "      <th>Deaths/1M</th>\n",
              "      <th>comorbidity</th>\n",
              "      <th>Age</th>\n",
              "      <th>Coma score</th>\n",
              "      <th>Pulmonary score</th>\n",
              "      <th>cardiological pressure</th>\n",
              "      <th>Diuresis</th>\n",
              "      <th>Platelets</th>\n",
              "      <th>HBB</th>\n",
              "      <th>d-dimer</th>\n",
              "      <th>Heart rate</th>\n",
              "      <th>HDL cholesterol</th>\n",
              "      <th>Charlson Index</th>\n",
              "      <th>Blood Glucose</th>\n",
              "      <th>Insurance</th>\n",
              "      <th>salary</th>\n",
              "      <th>FT/month</th>\n",
              "    </tr>\n",
              "  </thead>\n",
              "  <tbody>\n",
              "    <tr>\n",
              "      <th>0</th>\n",
              "      <td>0</td>\n",
              "      <td>1</td>\n",
              "      <td>1.0</td>\n",
              "      <td>4</td>\n",
              "      <td>1</td>\n",
              "      <td>-0.472554</td>\n",
              "      <td>-0.612505</td>\n",
              "      <td>2</td>\n",
              "      <td>1.691367</td>\n",
              "      <td>-0.272711</td>\n",
              "      <td>3</td>\n",
              "      <td>1</td>\n",
              "      <td>1.713615</td>\n",
              "      <td>1.654951</td>\n",
              "      <td>-0.420259</td>\n",
              "      <td>-1.023161</td>\n",
              "      <td>0.508209</td>\n",
              "      <td>0.515253</td>\n",
              "      <td>0.589446</td>\n",
              "      <td>1.418137</td>\n",
              "      <td>0.728501</td>\n",
              "      <td>-0.007758</td>\n",
              "      <td>1.264429</td>\n",
              "    </tr>\n",
              "    <tr>\n",
              "      <th>1</th>\n",
              "      <td>0</td>\n",
              "      <td>1</td>\n",
              "      <td>2.0</td>\n",
              "      <td>4</td>\n",
              "      <td>2</td>\n",
              "      <td>-0.472554</td>\n",
              "      <td>-0.612505</td>\n",
              "      <td>1</td>\n",
              "      <td>1.430316</td>\n",
              "      <td>1.611645</td>\n",
              "      <td>0</td>\n",
              "      <td>3</td>\n",
              "      <td>0.000000</td>\n",
              "      <td>0.830028</td>\n",
              "      <td>-1.091338</td>\n",
              "      <td>1.275137</td>\n",
              "      <td>1.005575</td>\n",
              "      <td>1.475246</td>\n",
              "      <td>-1.270564</td>\n",
              "      <td>0.703701</td>\n",
              "      <td>-0.797026</td>\n",
              "      <td>-1.489078</td>\n",
              "      <td>-0.005849</td>\n",
              "    </tr>\n",
              "    <tr>\n",
              "      <th>2</th>\n",
              "      <td>0</td>\n",
              "      <td>0</td>\n",
              "      <td>1.0</td>\n",
              "      <td>1</td>\n",
              "      <td>1</td>\n",
              "      <td>-0.472554</td>\n",
              "      <td>-0.612505</td>\n",
              "      <td>3</td>\n",
              "      <td>-1.506507</td>\n",
              "      <td>1.073257</td>\n",
              "      <td>2</td>\n",
              "      <td>0</td>\n",
              "      <td>1.449484</td>\n",
              "      <td>0.905021</td>\n",
              "      <td>0.377782</td>\n",
              "      <td>-1.507013</td>\n",
              "      <td>0.152947</td>\n",
              "      <td>-0.924736</td>\n",
              "      <td>1.688543</td>\n",
              "      <td>0.703701</td>\n",
              "      <td>0.575948</td>\n",
              "      <td>-0.666122</td>\n",
              "      <td>-0.005849</td>\n",
              "    </tr>\n",
              "    <tr>\n",
              "      <th>3</th>\n",
              "      <td>0</td>\n",
              "      <td>1</td>\n",
              "      <td>1.0</td>\n",
              "      <td>3</td>\n",
              "      <td>0</td>\n",
              "      <td>-0.472554</td>\n",
              "      <td>-0.612505</td>\n",
              "      <td>0</td>\n",
              "      <td>-0.592828</td>\n",
              "      <td>-0.003518</td>\n",
              "      <td>1</td>\n",
              "      <td>2</td>\n",
              "      <td>1.386092</td>\n",
              "      <td>0.255081</td>\n",
              "      <td>0.921901</td>\n",
              "      <td>-0.007071</td>\n",
              "      <td>-0.770732</td>\n",
              "      <td>0.707252</td>\n",
              "      <td>0.589446</td>\n",
              "      <td>1.418137</td>\n",
              "      <td>-1.483513</td>\n",
              "      <td>1.638153</td>\n",
              "      <td>-0.005849</td>\n",
              "    </tr>\n",
              "    <tr>\n",
              "      <th>4</th>\n",
              "      <td>0</td>\n",
              "      <td>0</td>\n",
              "      <td>2.0</td>\n",
              "      <td>6</td>\n",
              "      <td>0</td>\n",
              "      <td>-0.472554</td>\n",
              "      <td>-0.612505</td>\n",
              "      <td>1</td>\n",
              "      <td>-1.245456</td>\n",
              "      <td>-0.541905</td>\n",
              "      <td>3</td>\n",
              "      <td>1</td>\n",
              "      <td>1.174788</td>\n",
              "      <td>-1.669740</td>\n",
              "      <td>0.667979</td>\n",
              "      <td>1.347715</td>\n",
              "      <td>-0.273366</td>\n",
              "      <td>1.091249</td>\n",
              "      <td>1.012176</td>\n",
              "      <td>1.418137</td>\n",
              "      <td>0.423395</td>\n",
              "      <td>-0.336940</td>\n",
              "      <td>-0.005849</td>\n",
              "    </tr>\n",
              "  </tbody>\n",
              "</table>\n",
              "</div>"
            ],
            "text/plain": [
              "   Gender  Married  Children  ...  Insurance    salary  FT/month\n",
              "0       0        1       1.0  ...   0.728501 -0.007758  1.264429\n",
              "1       0        1       2.0  ...  -0.797026 -1.489078 -0.005849\n",
              "2       0        0       1.0  ...   0.575948 -0.666122 -0.005849\n",
              "3       0        1       1.0  ...  -1.483513  1.638153 -0.005849\n",
              "4       0        0       2.0  ...   0.423395 -0.336940 -0.005849\n",
              "\n",
              "[5 rows x 23 columns]"
            ]
          },
          "execution_count": 19,
          "metadata": {
            "tags": []
          },
          "output_type": "execute_result"
        }
      ],
      "source": [
        "##Training data after preprocessing of dataset\n",
        "new_df_train.head()"
      ]
    },
    {
      "cell_type": "code",
      "execution_count": 20,
      "metadata": {
        "colab": {
          "base_uri": "https://localhost:8080/",
          "height": 243
        },
        "colab_type": "code",
        "id": "s1hwxpyQzBiE",
        "outputId": "03958a8b-d476-4811-cf00-6570b4d5c03e"
      },
      "outputs": [
        {
          "data": {
            "text/html": [
              "<div>\n",
              "<style scoped>\n",
              "    .dataframe tbody tr th:only-of-type {\n",
              "        vertical-align: middle;\n",
              "    }\n",
              "\n",
              "    .dataframe tbody tr th {\n",
              "        vertical-align: top;\n",
              "    }\n",
              "\n",
              "    .dataframe thead th {\n",
              "        text-align: right;\n",
              "    }\n",
              "</style>\n",
              "<table border=\"1\" class=\"dataframe\">\n",
              "  <thead>\n",
              "    <tr style=\"text-align: right;\">\n",
              "      <th></th>\n",
              "      <th>Gender</th>\n",
              "      <th>Married</th>\n",
              "      <th>Children</th>\n",
              "      <th>Occupation</th>\n",
              "      <th>Mode_transport</th>\n",
              "      <th>cases/1M</th>\n",
              "      <th>Deaths/1M</th>\n",
              "      <th>comorbidity</th>\n",
              "      <th>Age</th>\n",
              "      <th>Coma score</th>\n",
              "      <th>Pulmonary score</th>\n",
              "      <th>cardiological pressure</th>\n",
              "      <th>Diuresis</th>\n",
              "      <th>Platelets</th>\n",
              "      <th>HBB</th>\n",
              "      <th>d-dimer</th>\n",
              "      <th>Heart rate</th>\n",
              "      <th>HDL cholesterol</th>\n",
              "      <th>Charlson Index</th>\n",
              "      <th>Blood Glucose</th>\n",
              "      <th>Insurance</th>\n",
              "      <th>salary</th>\n",
              "      <th>FT/month</th>\n",
              "    </tr>\n",
              "  </thead>\n",
              "  <tbody>\n",
              "    <tr>\n",
              "      <th>0</th>\n",
              "      <td>0</td>\n",
              "      <td>1</td>\n",
              "      <td>2</td>\n",
              "      <td>3</td>\n",
              "      <td>1</td>\n",
              "      <td>0.262431</td>\n",
              "      <td>0.558094</td>\n",
              "      <td>1</td>\n",
              "      <td>0.647163</td>\n",
              "      <td>-1.618680</td>\n",
              "      <td>1</td>\n",
              "      <td>2</td>\n",
              "      <td>1.153657</td>\n",
              "      <td>1.629954</td>\n",
              "      <td>1.447883</td>\n",
              "      <td>-0.853813</td>\n",
              "      <td>0.721366</td>\n",
              "      <td>0.035257</td>\n",
              "      <td>-0.256013</td>\n",
              "      <td>-1.439609</td>\n",
              "      <td>0.957330</td>\n",
              "      <td>-0.007758</td>\n",
              "      <td>-0.005849</td>\n",
              "    </tr>\n",
              "    <tr>\n",
              "      <th>1</th>\n",
              "      <td>1</td>\n",
              "      <td>1</td>\n",
              "      <td>2</td>\n",
              "      <td>5</td>\n",
              "      <td>2</td>\n",
              "      <td>0.262431</td>\n",
              "      <td>0.558094</td>\n",
              "      <td>1</td>\n",
              "      <td>0.712426</td>\n",
              "      <td>0.534870</td>\n",
              "      <td>1</td>\n",
              "      <td>2</td>\n",
              "      <td>1.375527</td>\n",
              "      <td>0.180088</td>\n",
              "      <td>0.395920</td>\n",
              "      <td>-0.829620</td>\n",
              "      <td>0.437157</td>\n",
              "      <td>0.803251</td>\n",
              "      <td>-1.524202</td>\n",
              "      <td>-0.010736</td>\n",
              "      <td>-0.644473</td>\n",
              "      <td>-0.007758</td>\n",
              "      <td>-0.005849</td>\n",
              "    </tr>\n",
              "    <tr>\n",
              "      <th>2</th>\n",
              "      <td>0</td>\n",
              "      <td>1</td>\n",
              "      <td>2</td>\n",
              "      <td>8</td>\n",
              "      <td>0</td>\n",
              "      <td>0.262431</td>\n",
              "      <td>0.558094</td>\n",
              "      <td>1</td>\n",
              "      <td>-0.462303</td>\n",
              "      <td>-0.003518</td>\n",
              "      <td>0</td>\n",
              "      <td>3</td>\n",
              "      <td>1.703049</td>\n",
              "      <td>-1.194785</td>\n",
              "      <td>0.903764</td>\n",
              "      <td>-0.950583</td>\n",
              "      <td>0.934523</td>\n",
              "      <td>-0.540739</td>\n",
              "      <td>0.335808</td>\n",
              "      <td>-1.439609</td>\n",
              "      <td>1.796370</td>\n",
              "      <td>1.144380</td>\n",
              "      <td>1.264429</td>\n",
              "    </tr>\n",
              "    <tr>\n",
              "      <th>3</th>\n",
              "      <td>0</td>\n",
              "      <td>1</td>\n",
              "      <td>2</td>\n",
              "      <td>8</td>\n",
              "      <td>0</td>\n",
              "      <td>0.262431</td>\n",
              "      <td>0.558094</td>\n",
              "      <td>3</td>\n",
              "      <td>-0.723354</td>\n",
              "      <td>0.804064</td>\n",
              "      <td>2</td>\n",
              "      <td>0</td>\n",
              "      <td>-0.769215</td>\n",
              "      <td>-0.244873</td>\n",
              "      <td>-0.601632</td>\n",
              "      <td>-1.555398</td>\n",
              "      <td>0.863470</td>\n",
              "      <td>-0.060742</td>\n",
              "      <td>-0.594197</td>\n",
              "      <td>0.703701</td>\n",
              "      <td>0.347119</td>\n",
              "      <td>-1.159896</td>\n",
              "      <td>1.264429</td>\n",
              "    </tr>\n",
              "    <tr>\n",
              "      <th>4</th>\n",
              "      <td>0</td>\n",
              "      <td>1</td>\n",
              "      <td>2</td>\n",
              "      <td>0</td>\n",
              "      <td>0</td>\n",
              "      <td>0.262431</td>\n",
              "      <td>0.558094</td>\n",
              "      <td>1</td>\n",
              "      <td>0.581901</td>\n",
              "      <td>-0.811099</td>\n",
              "      <td>1</td>\n",
              "      <td>2</td>\n",
              "      <td>-0.526215</td>\n",
              "      <td>0.530056</td>\n",
              "      <td>1.647393</td>\n",
              "      <td>0.888055</td>\n",
              "      <td>1.360836</td>\n",
              "      <td>1.475246</td>\n",
              "      <td>1.603997</td>\n",
              "      <td>-0.010736</td>\n",
              "      <td>-0.263092</td>\n",
              "      <td>0.321424</td>\n",
              "      <td>-0.005849</td>\n",
              "    </tr>\n",
              "  </tbody>\n",
              "</table>\n",
              "</div>"
            ],
            "text/plain": [
              "   Gender  Married  Children  ...  Insurance    salary  FT/month\n",
              "0       0        1         2  ...   0.957330 -0.007758 -0.005849\n",
              "1       1        1         2  ...  -0.644473 -0.007758 -0.005849\n",
              "2       0        1         2  ...   1.796370  1.144380  1.264429\n",
              "3       0        1         2  ...   0.347119 -1.159896  1.264429\n",
              "4       0        1         2  ...  -0.263092  0.321424 -0.005849\n",
              "\n",
              "[5 rows x 23 columns]"
            ]
          },
          "execution_count": 20,
          "metadata": {
            "tags": []
          },
          "output_type": "execute_result"
        }
      ],
      "source": [
        "###Test Data after preprocessing\n",
        "new_df_test.head()"
      ]
    },
    {
      "cell_type": "code",
      "execution_count": 21,
      "metadata": {
        "colab": {
          "base_uri": "https://localhost:8080/",
          "height": 1000
        },
        "colab_type": "code",
        "id": "CRgyc2IFzC8G",
        "outputId": "e3a012a1-ad31-4d7d-c436-a80456427d26"
      },
      "outputs": [
        {
          "data": {
            "text/plain": [
              "<matplotlib.axes._subplots.AxesSubplot at 0x7f6c9addb0f0>"
            ]
          },
          "execution_count": 21,
          "metadata": {
            "tags": []
          },
          "output_type": "execute_result"
        },
        {
          "data": {
            "image/png": "iVBORw0KGgoAAAANSUhEUgAABI0AAATGCAYAAACrV1SbAAAABHNCSVQICAgIfAhkiAAAAAlwSFlz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\n",
            "text/plain": [
              "<Figure size 1440x1440 with 2 Axes>"
            ]
          },
          "metadata": {
            "tags": []
          },
          "output_type": "display_data"
        }
      ],
      "source": [
        "###Visualising relations between features of preprocessed data matrix \n",
        "plt.figure(figsize=[20,20])\n",
        "sns.heatmap(new_df_train.corr(),annot=True)"
      ]
    },
    {
      "cell_type": "code",
      "execution_count": 23,
      "metadata": {
        "colab": {
          "base_uri": "https://localhost:8080/",
          "height": 54
        },
        "colab_type": "code",
        "id": "RGXwB_QmzFga",
        "outputId": "7694ac9c-4699-483f-c1e3-5177b3064343"
      },
      "outputs": [
        {
          "name": "stdout",
          "output_type": "stream",
          "text": [
            "training data shape:  (9106, 23)\n",
            "testing  data shape:  (1608, 23)\n"
          ]
        }
      ],
      "source": [
        "###Splitting training data for model building\n",
        "X_train,X_test,y_train,y_test= train_test_split(new_df_train,y,test_size=0.15,random_state=2)\n",
        "print(\"training data shape: \" ,X_train.shape)\n",
        "print('testing  data shape: ' ,X_test.shape)\n"
      ]
    },
    {
      "cell_type": "markdown",
      "metadata": {
        "colab_type": "text",
        "id": "VSrGsI_64kj9"
      },
      "source": [
        "Fitting various models to find optimum model"
      ]
    },
    {
      "cell_type": "code",
      "execution_count": 26,
      "metadata": {
        "colab": {
          "base_uri": "https://localhost:8080/",
          "height": 54
        },
        "colab_type": "code",
        "id": "yivj4uPMzL7k",
        "outputId": "d5464dda-9226-459e-fe98-650f9fb7137a"
      },
      "outputs": [
        {
          "name": "stdout",
          "output_type": "stream",
          "text": [
            "MSE:  79.89903540734026\n",
            "MAE:  4.422661227908705\n"
          ]
        }
      ],
      "source": [
        "#Using Ridge Linear Regression\n",
        "model_lr_r = Ridge()\n",
        "model_lr_r.fit(X_train,y_train)\n",
        "y_pred = model_lr_r.predict(X_test)\n",
        "print('MSE: ',mse(y_test,y_pred))\n",
        "print('MAE: ',mae(y_test,y_pred))"
      ]
    },
    {
      "cell_type": "code",
      "execution_count": 35,
      "metadata": {
        "colab": {
          "base_uri": "https://localhost:8080/",
          "height": 54
        },
        "colab_type": "code",
        "id": "932kiZJj0sRz",
        "outputId": "c0dd587f-5687-41e1-959c-643f2b689085"
      },
      "outputs": [
        {
          "name": "stdout",
          "output_type": "stream",
          "text": [
            "MSE:  85.55063723374934\n",
            "MAE:  5.3445153386859605\n"
          ]
        }
      ],
      "source": [
        "#Using Lasso Linear Regression\n",
        "model_lr_l = Lasso()\n",
        "model_lr_l.fit(X_train,y_train)\n",
        "y_pred = model_lr_l.predict(X_test)\n",
        "print('MSE: ',mse(y_test,y_pred))\n",
        "print('MAE: ',mae(y_test,y_pred))"
      ]
    },
    {
      "cell_type": "code",
      "execution_count": 40,
      "metadata": {
        "colab": {
          "base_uri": "https://localhost:8080/",
          "height": 54
        },
        "colab_type": "code",
        "id": "yhaIU79mzPt2",
        "outputId": "dcee8199-abf7-483c-e56c-1f75d6648a0d"
      },
      "outputs": [
        {
          "name": "stdout",
          "output_type": "stream",
          "text": [
            "MSE:  75.34135731034013\n",
            "MAE:  3.551966996969374\n"
          ]
        }
      ],
      "source": [
        "#Using Random Forest Regressor\n",
        "model_rf = RandomForestRegressor(n_estimators=500,max_depth=8)\n",
        "model_rf.fit(X_train,y_train)\n",
        "y_pred = model_rf.predict(X_test)\n",
        "print('MSE: ',mse(y_test,y_pred))\n",
        "print('MAE: ',mae(y_test,y_pred))"
      ]
    },
    {
      "cell_type": "code",
      "execution_count": 45,
      "metadata": {
        "colab": {
          "base_uri": "https://localhost:8080/",
          "height": 54
        },
        "colab_type": "code",
        "id": "4XKUO8TXzSAy",
        "outputId": "91c6d724-bd00-4c8d-bf7a-cc75161811a4"
      },
      "outputs": [
        {
          "name": "stdout",
          "output_type": "stream",
          "text": [
            "MSE:  74.53383112672282\n",
            "MAE:  3.567207341875447\n"
          ]
        }
      ],
      "source": [
        "#Using Gradient Boosting Regresspr\n",
        "model_gb = GradientBoostingRegressor()\n",
        "model_gb.fit(X_train,y_train)\n",
        "y_pred = model_gb.predict(X_test)\n",
        "print('MSE: ',mse(y_test,y_pred))\n",
        "print('MAE: ',mae(y_test,y_pred))"
      ]
    },
    {
      "cell_type": "code",
      "execution_count": 47,
      "metadata": {
        "colab": {
          "base_uri": "https://localhost:8080/",
          "height": 73
        },
        "colab_type": "code",
        "id": "qzoLpaFezYzY",
        "outputId": "807377a2-a187-49ad-e75b-b0d975a1d1ae"
      },
      "outputs": [
        {
          "name": "stdout",
          "output_type": "stream",
          "text": [
            "[20:33:39] WARNING: /workspace/src/objective/regression_obj.cu:152: reg:linear is now deprecated in favor of reg:squarederror.\n",
            "MSE:  75.2851040915948\n",
            "MAE:  3.581039989180398\n"
          ]
        }
      ],
      "source": [
        "#Using XGB Regressor\n",
        "model_x = XGBRegressor()\n",
        "model_x.fit(X_train,y_train)\n",
        "y_pred = model_x.predict(X_test)\n",
        "print('MSE: ',mse(y_test,y_pred))\n",
        "print('MAE: ',mae(y_test,y_pred))"
      ]
    },
    {
      "cell_type": "code",
      "execution_count": 51,
      "metadata": {
        "colab": {
          "base_uri": "https://localhost:8080/",
          "height": 54
        },
        "colab_type": "code",
        "id": "C8Z2Foaf422q",
        "outputId": "79debcae-9254-4182-a5d5-912b5ebe7961"
      },
      "outputs": [
        {
          "name": "stdout",
          "output_type": "stream",
          "text": [
            "MSE:  79.13679933395484\n",
            "MAE:  4.128678523683784\n"
          ]
        }
      ],
      "source": [
        "###Using SVM Regressor\n",
        "model_svr = SVR(kernel='linear')\n",
        "model_svr.fit(X_train,y_train)\n",
        "y_pred = model_svr.predict(X_test)\n",
        "print('MSE: ',mse(y_test,y_pred))\n",
        "print('MAE: ',mae(y_test,y_pred))"
      ]
    },
    {
      "cell_type": "code",
      "execution_count": 65,
      "metadata": {
        "colab": {
          "base_uri": "https://localhost:8080/",
          "height": 54
        },
        "colab_type": "code",
        "id": "mmIkCWeO9RfA",
        "outputId": "943daf8d-2896-48ba-daf9-16e8e69e7b1a"
      },
      "outputs": [
        {
          "name": "stdout",
          "output_type": "stream",
          "text": [
            "MSE:  87.4881173581452\n",
            "MAE:  4.903740523857762\n"
          ]
        }
      ],
      "source": [
        "#Using KNearestNeighbors Regression\n",
        "model_knn = knn(n_neighbors=64,weights='uniform',leaf_size=120)\n",
        "model_knn.fit(X_train,y_train)\n",
        "y_pred = model_knn.predict(X_test)\n",
        "print('MSE: ',mse(y_test,y_pred))\n",
        "print('MAE: ',mae(y_test,y_pred))"
      ]
    },
    {
      "cell_type": "code",
      "execution_count": 69,
      "metadata": {
        "colab": {
          "base_uri": "https://localhost:8080/",
          "height": 839
        },
        "colab_type": "code",
        "id": "64aVL-KT5Tq-",
        "outputId": "5d934d00-a749-404c-8b86-5384aec4621a"
      },
      "outputs": [
        {
          "name": "stdout",
          "output_type": "stream",
          "text": [
            "[20:51:51] WARNING: /workspace/src/objective/regression_obj.cu:152: reg:linear is now deprecated in favor of reg:squarederror.\n",
            "[20:51:51] WARNING: /workspace/src/objective/regression_obj.cu:152: reg:linear is now deprecated in favor of reg:squarederror.\n",
            "[20:51:52] WARNING: /workspace/src/objective/regression_obj.cu:152: reg:linear is now deprecated in favor of reg:squarederror.\n",
            "[20:51:52] WARNING: /workspace/src/objective/regression_obj.cu:152: reg:linear is now deprecated in favor of reg:squarederror.\n",
            "[20:51:53] WARNING: /workspace/src/objective/regression_obj.cu:152: reg:linear is now deprecated in favor of reg:squarederror.\n",
            "[20:51:53] WARNING: /workspace/src/objective/regression_obj.cu:152: reg:linear is now deprecated in favor of reg:squarederror.\n",
            "[20:51:54] WARNING: /workspace/src/objective/regression_obj.cu:152: reg:linear is now deprecated in favor of reg:squarederror.\n",
            "[20:51:54] WARNING: /workspace/src/objective/regression_obj.cu:152: reg:linear is now deprecated in favor of reg:squarederror.\n",
            "[20:51:55] WARNING: /workspace/src/objective/regression_obj.cu:152: reg:linear is now deprecated in favor of reg:squarederror.\n",
            "[20:51:56] WARNING: /workspace/src/objective/regression_obj.cu:152: reg:linear is now deprecated in favor of reg:squarederror.\n",
            "[20:51:56] WARNING: /workspace/src/objective/regression_obj.cu:152: reg:linear is now deprecated in favor of reg:squarederror.\n",
            "[20:51:57] WARNING: /workspace/src/objective/regression_obj.cu:152: reg:linear is now deprecated in favor of reg:squarederror.\n",
            "[20:51:58] WARNING: /workspace/src/objective/regression_obj.cu:152: reg:linear is now deprecated in favor of reg:squarederror.\n",
            "[20:52:00] WARNING: /workspace/src/objective/regression_obj.cu:152: reg:linear is now deprecated in favor of reg:squarederror.\n",
            "[20:52:01] WARNING: /workspace/src/objective/regression_obj.cu:152: reg:linear is now deprecated in favor of reg:squarederror.\n",
            "[20:52:02] WARNING: /workspace/src/objective/regression_obj.cu:152: reg:linear is now deprecated in favor of reg:squarederror.\n",
            "[20:52:04] WARNING: /workspace/src/objective/regression_obj.cu:152: reg:linear is now deprecated in favor of reg:squarederror.\n",
            "[20:52:06] WARNING: /workspace/src/objective/regression_obj.cu:152: reg:linear is now deprecated in favor of reg:squarederror.\n",
            "[20:52:08] WARNING: /workspace/src/objective/regression_obj.cu:152: reg:linear is now deprecated in favor of reg:squarederror.\n",
            "[20:52:10] WARNING: /workspace/src/objective/regression_obj.cu:152: reg:linear is now deprecated in favor of reg:squarederror.\n",
            "[20:52:12] WARNING: /workspace/src/objective/regression_obj.cu:152: reg:linear is now deprecated in favor of reg:squarederror.\n",
            "[20:52:12] WARNING: /workspace/src/objective/regression_obj.cu:152: reg:linear is now deprecated in favor of reg:squarederror.\n",
            "[20:52:13] WARNING: /workspace/src/objective/regression_obj.cu:152: reg:linear is now deprecated in favor of reg:squarederror.\n",
            "[20:52:13] WARNING: /workspace/src/objective/regression_obj.cu:152: reg:linear is now deprecated in favor of reg:squarederror.\n",
            "[20:52:14] WARNING: /workspace/src/objective/regression_obj.cu:152: reg:linear is now deprecated in favor of reg:squarederror.\n",
            "[20:52:14] WARNING: /workspace/src/objective/regression_obj.cu:152: reg:linear is now deprecated in favor of reg:squarederror.\n",
            "[20:52:15] WARNING: /workspace/src/objective/regression_obj.cu:152: reg:linear is now deprecated in favor of reg:squarederror.\n",
            "[20:52:15] WARNING: /workspace/src/objective/regression_obj.cu:152: reg:linear is now deprecated in favor of reg:squarederror.\n",
            "[20:52:16] WARNING: /workspace/src/objective/regression_obj.cu:152: reg:linear is now deprecated in favor of reg:squarederror.\n",
            "[20:52:17] WARNING: /workspace/src/objective/regression_obj.cu:152: reg:linear is now deprecated in favor of reg:squarederror.\n",
            "[20:52:17] WARNING: /workspace/src/objective/regression_obj.cu:152: reg:linear is now deprecated in favor of reg:squarederror.\n",
            "[20:52:18] WARNING: /workspace/src/objective/regression_obj.cu:152: reg:linear is now deprecated in favor of reg:squarederror.\n",
            "[20:52:19] WARNING: /workspace/src/objective/regression_obj.cu:152: reg:linear is now deprecated in favor of reg:squarederror.\n",
            "[20:52:21] WARNING: /workspace/src/objective/regression_obj.cu:152: reg:linear is now deprecated in favor of reg:squarederror.\n",
            "[20:52:22] WARNING: /workspace/src/objective/regression_obj.cu:152: reg:linear is now deprecated in favor of reg:squarederror.\n",
            "[20:52:23] WARNING: /workspace/src/objective/regression_obj.cu:152: reg:linear is now deprecated in favor of reg:squarederror.\n",
            "[20:52:25] WARNING: /workspace/src/objective/regression_obj.cu:152: reg:linear is now deprecated in favor of reg:squarederror.\n",
            "[20:52:27] WARNING: /workspace/src/objective/regression_obj.cu:152: reg:linear is now deprecated in favor of reg:squarederror.\n",
            "[20:52:29] WARNING: /workspace/src/objective/regression_obj.cu:152: reg:linear is now deprecated in favor of reg:squarederror.\n",
            "[20:52:31] WARNING: /workspace/src/objective/regression_obj.cu:152: reg:linear is now deprecated in favor of reg:squarederror.\n",
            "[20:52:33] WARNING: /workspace/src/objective/regression_obj.cu:152: reg:linear is now deprecated in favor of reg:squarederror.\n",
            "{'learning_rate': 0.01, 'n_estimators': 500}\n",
            "MSE:  75.01420191739705\n",
            "MAE:  3.637518857284598\n"
          ]
        }
      ],
      "source": [
        "###Using GridSearch Optimisation for sinding suitable parameters for a XGBoosting Regressor\n",
        "model = XGBRegressor()\n",
        "parameters = {\n",
        "              'learning_rate': [0.1,0.01],\n",
        "              \n",
        "              'n_estimators': [100,150,250,500]}\n",
        "clf = GridSearchCV(model, parameters, scoring='neg_mean_squared_error')\n",
        "clf.fit(X_train,y_train)\n",
        "print(clf.best_params_)\n",
        "y_pred = clf.predict(X_test)\n",
        "print('MSE: ',mse(y_test,y_pred))\n",
        "print('MAE: ',mae(y_test,y_pred))"
      ]
    },
    {
      "cell_type": "code",
      "execution_count": 87,
      "metadata": {
        "colab": {
          "base_uri": "https://localhost:8080/",
          "height": 73
        },
        "colab_type": "code",
        "id": "hfjGdtJaCsMq",
        "outputId": "fd74ece4-8495-4867-e9b3-87f52a6747e5"
      },
      "outputs": [
        {
          "name": "stdout",
          "output_type": "stream",
          "text": [
            "{'max_depth': 8, 'n_estimators': 500}\n",
            "MSE:  75.38266280346716\n",
            "MAE:  3.547773754322795\n"
          ]
        }
      ],
      "source": [
        "###Using GridSearch Optimisation for sinding suitable parameters for a RandomForest Regressor\n",
        "model2 = RandomForestRegressor()\n",
        "parameters = {\n",
        "              'max_depth': [8,16,12],\n",
        "              \n",
        "              'n_estimators': [100,150,250,500]}\n",
        "clf2 = GridSearchCV(model2, parameters, scoring='neg_mean_squared_error')\n",
        "clf2.fit(X_train,y_train)\n",
        "print(clf2.best_params_)\n",
        "y_pred = clf2.predict(X_test)\n",
        "print('MSE: ',mse(y_test,y_pred))\n",
        "print('MAE: ',mae(y_test,y_pred))"
      ]
    },
    {
      "cell_type": "markdown",
      "metadata": {
        "colab_type": "text",
        "id": "tEW-T_teOVvj"
      },
      "source": [
        "Part2: Time Series Forecasting of Diuresis followed by Infection_Prob calculation"
      ]
    },
    {
      "cell_type": "code",
      "execution_count": 71,
      "metadata": {
        "colab": {
          "base_uri": "https://localhost:8080/",
          "height": 206
        },
        "colab_type": "code",
        "id": "fRY6a2YEHmpW",
        "outputId": "3cdcfdfc-71c2-4714-a13e-7fe677e20a80"
      },
      "outputs": [
        {
          "data": {
            "text/html": [
              "<div>\n",
              "<style scoped>\n",
              "    .dataframe tbody tr th:only-of-type {\n",
              "        vertical-align: middle;\n",
              "    }\n",
              "\n",
              "    .dataframe tbody tr th {\n",
              "        vertical-align: top;\n",
              "    }\n",
              "\n",
              "    .dataframe thead th {\n",
              "        text-align: right;\n",
              "    }\n",
              "</style>\n",
              "<table border=\"1\" class=\"dataframe\">\n",
              "  <thead>\n",
              "    <tr style=\"text-align: right;\">\n",
              "      <th></th>\n",
              "      <th>people_ID</th>\n",
              "      <th>2020-03-20 00:00:00</th>\n",
              "      <th>2020-03-21 00:00:00</th>\n",
              "      <th>2020-03-22 00:00:00</th>\n",
              "      <th>2020-03-23 00:00:00</th>\n",
              "      <th>2020-03-24 00:00:00</th>\n",
              "      <th>2020-03-25 00:00:00</th>\n",
              "      <th>2020-03-26 00:00:00</th>\n",
              "    </tr>\n",
              "  </thead>\n",
              "  <tbody>\n",
              "    <tr>\n",
              "      <th>0</th>\n",
              "      <td>1</td>\n",
              "      <td>441</td>\n",
              "      <td>544.2</td>\n",
              "      <td>669.64</td>\n",
              "      <td>821.368</td>\n",
              "      <td>1002.2416</td>\n",
              "      <td>1215.68992</td>\n",
              "      <td>1472.627904</td>\n",
              "    </tr>\n",
              "    <tr>\n",
              "      <th>1</th>\n",
              "      <td>2</td>\n",
              "      <td>151</td>\n",
              "      <td>197.2</td>\n",
              "      <td>253.24</td>\n",
              "      <td>321.688</td>\n",
              "      <td>399.9256</td>\n",
              "      <td>492.91072</td>\n",
              "      <td>606.892864</td>\n",
              "    </tr>\n",
              "    <tr>\n",
              "      <th>2</th>\n",
              "      <td>3</td>\n",
              "      <td>416</td>\n",
              "      <td>515.2</td>\n",
              "      <td>632.44</td>\n",
              "      <td>776.728</td>\n",
              "      <td>947.7736</td>\n",
              "      <td>1150.32832</td>\n",
              "      <td>1395.793984</td>\n",
              "    </tr>\n",
              "    <tr>\n",
              "      <th>3</th>\n",
              "      <td>4</td>\n",
              "      <td>410</td>\n",
              "      <td>506.0</td>\n",
              "      <td>621.40</td>\n",
              "      <td>761.880</td>\n",
              "      <td>928.1560</td>\n",
              "      <td>1126.78720</td>\n",
              "      <td>1368.344640</td>\n",
              "    </tr>\n",
              "    <tr>\n",
              "      <th>4</th>\n",
              "      <td>5</td>\n",
              "      <td>390</td>\n",
              "      <td>483.0</td>\n",
              "      <td>595.00</td>\n",
              "      <td>730.200</td>\n",
              "      <td>892.8400</td>\n",
              "      <td>1084.40800</td>\n",
              "      <td>1315.889600</td>\n",
              "    </tr>\n",
              "  </tbody>\n",
              "</table>\n",
              "</div>"
            ],
            "text/plain": [
              "   people_ID  2020-03-20 00:00:00  ...  2020-03-25 00:00:00  2020-03-26 00:00:00\n",
              "0          1                  441  ...           1215.68992          1472.627904\n",
              "1          2                  151  ...            492.91072           606.892864\n",
              "2          3                  416  ...           1150.32832          1395.793984\n",
              "3          4                  410  ...           1126.78720          1368.344640\n",
              "4          5                  390  ...           1084.40800          1315.889600\n",
              "\n",
              "[5 rows x 8 columns]"
            ]
          },
          "execution_count": 71,
          "metadata": {
            "tags": []
          },
          "output_type": "execute_result"
        }
      ],
      "source": [
        "#Loading Time-Series data of Diuresis rate\n",
        "train = pd.ExcelFile('Train_dataset.xlsx')\n",
        "diu_df = pd.read_excel(train, 'Diuresis_TS')\n",
        "diu_df.head()"
      ]
    },
    {
      "cell_type": "code",
      "execution_count": 72,
      "metadata": {
        "colab": {
          "base_uri": "https://localhost:8080/",
          "height": 260
        },
        "colab_type": "code",
        "id": "NtnYVLqxOe7G",
        "outputId": "58cd86ba-2b5d-4f23-e726-58cd56738112"
      },
      "outputs": [
        {
          "name": "stdout",
          "output_type": "stream",
          "text": [
            "<class 'pandas.core.frame.DataFrame'>\n",
            "RangeIndex: 10714 entries, 0 to 10713\n",
            "Data columns (total 8 columns):\n",
            "people_ID              10714 non-null int64\n",
            "2020-03-20 00:00:00    10714 non-null int64\n",
            "2020-03-21 00:00:00    10714 non-null float64\n",
            "2020-03-22 00:00:00    10714 non-null float64\n",
            "2020-03-23 00:00:00    10714 non-null float64\n",
            "2020-03-24 00:00:00    10714 non-null float64\n",
            "2020-03-25 00:00:00    10714 non-null float64\n",
            "2020-03-26 00:00:00    10714 non-null float64\n",
            "dtypes: float64(6), int64(2)\n",
            "memory usage: 669.8 KB\n"
          ]
        }
      ],
      "source": [
        "##Checking for presence of NaN data\n",
        "diu_df.info()"
      ]
    },
    {
      "cell_type": "code",
      "execution_count": 75,
      "metadata": {
        "colab": {
          "base_uri": "https://localhost:8080/",
          "height": 1000
        },
        "colab_type": "code",
        "id": "rPQO7ljDQKTn",
        "outputId": "13ada4d3-82f2-42e7-e062-801da5267375"
      },
      "outputs": [
        {
          "data": {
            "image/png": "iVBORw0KGgoAAAANSUhEUgAAAX0AAAD4CAYAAAAAczaOAAAABHNCSVQICAgIfAhkiAAAAAlwSFlz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\n",
            "text/plain": [
              "<Figure size 432x288 with 1 Axes>"
            ]
          },
          "metadata": {
            "tags": []
          },
          "output_type": "display_data"
        },
        {
          "data": {
            "image/png": "iVBORw0KGgoAAAANSUhEUgAAAXcAAAD4CAYAAAAXUaZHAAAABHNCSVQICAgIfAhkiAAAAAlwSFlz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\nu4hICFK5i4iEoP8HYMMD3M+rL9MAAAAASUVORK5CYII=\n",
            "text/plain": [
              "<Figure size 432x288 with 1 Axes>"
            ]
          },
          "metadata": {
            "tags": []
          },
          "output_type": "display_data"
        },
        {
          "data": {
            "image/png": "iVBORw0KGgoAAAANSUhEUgAAAX0AAAD4CAYAAAAAczaOAAAABHNCSVQICAgIfAhkiAAAAAlwSFlz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\n8QAAAABJRU5ErkJggg==\n",
            "text/plain": [
              "<Figure size 432x288 with 1 Axes>"
            ]
          },
          "metadata": {
            "tags": []
          },
          "output_type": "display_data"
        },
        {
          "data": {
            "image/png": "iVBORw0KGgoAAAANSUhEUgAAAX0AAAD5CAYAAADLL+UrAAAABHNCSVQICAgIfAhkiAAAAAlwSFlz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\nrkJggg==\n",
            "text/plain": [
              "<Figure size 432x288 with 1 Axes>"
            ]
          },
          "metadata": {
            "tags": []
          },
          "output_type": "display_data"
        },
        {
          "data": {
            "image/png": "iVBORw0KGgoAAAANSUhEUgAAAX0AAAD4CAYAAAAAczaOAAAABHNCSVQICAgIfAhkiAAAAAlwSFlz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\nffQbRAAAAABJRU5ErkJggg==\n",
            "text/plain": [
              "<Figure size 432x288 with 1 Axes>"
            ]
          },
          "metadata": {
            "tags": []
          },
          "output_type": "display_data"
        }
      ],
      "source": [
        "#Visualising Diuresis rate Vs Time(in Days) for pattern finding\n",
        "\n",
        "for i in range(5):\n",
        "  a = diu_df.iloc[i]\n",
        "  a = a.to_numpy()\n",
        "  a = np.delete(a,0,axis=0)\n",
        "  x=[i for i in range(1,8)]\n",
        "  x=np.asarray(x)\n",
        "  plt.plot(x,a)\n",
        "  plt.show()"
      ]
    },
    {
      "cell_type": "code",
      "execution_count": 0,
      "metadata": {
        "colab": {},
        "colab_type": "code",
        "id": "r2bwdjOhjFQY"
      },
      "outputs": [],
      "source": [
        "##Forecasting Diuresis rate on 27 March  applying ARIMA forecasting model on training data\n",
        "y_pred1=[]\n",
        "for i in range(diu_df.shape[0]):\n",
        "  tmp = diu_df.iloc[i]\n",
        "  tmp = tmp.to_numpy()\n",
        "  tmp = np.delete(tmp,0,axis=0)\n",
        "  model = ARIMA(tmp, order=(0,2,0))\n",
        "  model_fit = model.fit(disp=0)\n",
        "  output = model_fit.forecast()\n",
        "  y_pred1.append(output[0][0])\n",
        "y_df = pd.DataFrame()\n",
        "y_df['diu'] = y_pred1  "
      ]
    },
    {
      "cell_type": "code",
      "execution_count": 82,
      "metadata": {
        "colab": {
          "base_uri": "https://localhost:8080/",
          "height": 592
        },
        "colab_type": "code",
        "id": "aAetQbSGjOtw",
        "outputId": "32d01a06-cd61-42b1-e166-7d03eb51361b"
      },
      "outputs": [
        {
          "data": {
            "image/png": "iVBORw0KGgoAAAANSUhEUgAAAlwAAAI/CAYAAACifAdEAAAABHNCSVQICAgIfAhkiAAAAAlwSFlz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\nSUVORK5CYII=\n",
            "text/plain": [
              "<Figure size 720x720 with 1 Axes>"
            ]
          },
          "metadata": {
            "tags": []
          },
          "output_type": "display_data"
        }
      ],
      "source": [
        "#Plotting Diuresis rate on March 20 Vs Diuresis rate on March 27\n",
        "f = plt.figure(figsize=(10,10))\n",
        "plt.plot(diu_df[diu_df.columns[1]][::150],y_df[::150],'ob')\n",
        "plt.show()"
      ]
    },
    {
      "cell_type": "code",
      "execution_count": 0,
      "metadata": {
        "colab": {},
        "colab_type": "code",
        "id": "ezgV5EUyzziB"
      },
      "outputs": [],
      "source": [
        "scaler = StandardScaler()\n",
        "tr_diu = pd.DataFrame(scaler.fit_transform(diu_df[diu_df.columns[1]].values.reshape(-1,1)))"
      ]
    },
    {
      "cell_type": "code",
      "execution_count": 0,
      "metadata": {
        "colab": {},
        "colab_type": "code",
        "id": "5cPJy0KBl_AO"
      },
      "outputs": [],
      "source": [
        "#Using Linear Regression to find the Diuresis rate on March 27th for the people in test dataset\n",
        "mod = LinearRegression()\n",
        "mod.fit(tr_diu,y_df)\n",
        "diu_pred = mod.predict(new_df_test['Diuresis'].values.reshape(-1,1))\n",
        "\n",
        "test_df_2 = new_df_test.copy()\n",
        "scaler.fit(diu_df[diu_df.columns[1]].values.reshape(-1,1))\n",
        "test_df_2['Diuresis'] = pd.DataFrame(scaler.transform(diu_pred))"
      ]
    },
    {
      "cell_type": "code",
      "execution_count": 0,
      "metadata": {
        "colab": {},
        "colab_type": "code",
        "id": "oiwu0W99zhnR"
      },
      "outputs": [],
      "source": [
        "#Predicting the probility of infection using Gradient Boost Regressor on 20th March\n",
        "y_pred_20 = model_rf.predict(new_df_test)\n",
        "output_1 = pd.DataFrame({'people_ID':test_id,'Infect_Prob':y_pred_20})\n",
        "output_1.to_csv('Inf_Prob_20_03.csv',index=False)"
      ]
    },
    {
      "cell_type": "code",
      "execution_count": 0,
      "metadata": {
        "colab": {},
        "colab_type": "code",
        "id": "PScrAtUd0d1J"
      },
      "outputs": [],
      "source": [
        "#Predicting the probility of infection using Gradient Boost Regressor on 27th March\n",
        "y_pred_27 = model_rf.predict(new_df_test)\n",
        "output_2 = pd.DataFrame({'people_ID':test_id,'Infect_Prob':y_pred_27})\n",
        "output_2.to_csv('Inf_Prob_27_03.csv',index=False)"
      ]
    },
    {
      "cell_type": "code",
      "execution_count": 0,
      "metadata": {
        "colab": {},
        "colab_type": "code",
        "id": "CtmaHbCLKF9S"
      },
      "outputs": [],
      "source": [
        ""
      ]
    }
  ]
}
